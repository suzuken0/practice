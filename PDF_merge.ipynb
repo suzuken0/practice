{
  "nbformat": 4,
  "nbformat_minor": 0,
  "metadata": {
    "colab": {
      "provenance": [],
      "authorship_tag": "ABX9TyMwL6vDgfQibaM9YtogHofB",
      "include_colab_link": true
    },
    "kernelspec": {
      "name": "python3",
      "display_name": "Python 3"
    },
    "language_info": {
      "name": "python"
    }
  },
  "cells": [
    {
      "cell_type": "markdown",
      "metadata": {
        "id": "view-in-github",
        "colab_type": "text"
      },
      "source": [
        "<a href=\"https://colab.research.google.com/github/suzuken0/practice/blob/main/PDF_merge.ipynb\" target=\"_parent\"><img src=\"https://colab.research.google.com/assets/colab-badge.svg\" alt=\"Open In Colab\"/></a>"
      ]
    },
    {
      "cell_type": "code",
      "source": [
        "!pip install PyPDF2\n"
      ],
      "metadata": {
        "colab": {
          "base_uri": "https://localhost:8080/"
        },
        "id": "n6UmRft5sAJt",
        "outputId": "e8ebd149-6537-42a9-cc17-08353291ed90"
      },
      "execution_count": null,
      "outputs": [
        {
          "output_type": "stream",
          "name": "stdout",
          "text": [
            "Collecting PyPDF2\n",
            "  Downloading pypdf2-3.0.1-py3-none-any.whl.metadata (6.8 kB)\n",
            "Downloading pypdf2-3.0.1-py3-none-any.whl (232 kB)\n",
            "\u001b[?25l   \u001b[90m━━━━━━━━━━━━━━━━━━━━━━━━━━━━━━━━━━━━━━━━\u001b[0m \u001b[32m0.0/232.6 kB\u001b[0m \u001b[31m?\u001b[0m eta \u001b[36m-:--:--\u001b[0m\r\u001b[2K   \u001b[90m━━━━━━━━━━━━━━━━━━━━━━━━━━━━━━━━━━━━━━━━\u001b[0m \u001b[32m232.6/232.6 kB\u001b[0m \u001b[31m7.7 MB/s\u001b[0m eta \u001b[36m0:00:00\u001b[0m\n",
            "\u001b[?25hInstalling collected packages: PyPDF2\n",
            "Successfully installed PyPDF2-3.0.1\n"
          ]
        }
      ]
    },
    {
      "cell_type": "code",
      "source": [
        "import os\n",
        "from PyPDF2 import PdfMerger\n",
        "\n",
        "# 出力ファイル名を入力\n",
        "output_filename = input(\"出力ファイル名を入力してください（例：merged_file）: \")\n",
        "\n",
        "# 拡張子が付いていない場合、自動的に\".pdf\"を付加\n",
        "if not output_filename.lower().endswith(\".pdf\"):\n",
        "    output_filename += \".pdf\"\n",
        "\n",
        "# /content ディレクトリ内のPDFファイルを取得\n",
        "pdf_files = [\n",
        "    os.path.join(\"/content\", f) for f in os.listdir(\"/content\")\n",
        "    if f.lower().endswith(\".pdf\")\n",
        "]\n",
        "\n",
        "# ファイル名でソート（アルファベット順）\n",
        "pdf_files.sort()\n",
        "\n",
        "# PDFマージ\n",
        "merger = PdfMerger()\n",
        "for pdf_file in pdf_files:\n",
        "    try:\n",
        "        merger.append(pdf_file)\n",
        "    except Exception as e:\n",
        "        print(f\"Error merging {pdf_file}: {e}\")\n",
        "        continue  # エラーが発生した場合、次のファイルへ\n",
        "\n",
        "try:\n",
        "    merger.write(output_filename)\n",
        "    merger.close()\n",
        "    print(f\"Successfully merged PDF files into {output_filename}\")\n",
        "except Exception as e:\n",
        "    print(f\"Error writing merged PDF file: {e}\")"
      ],
      "metadata": {
        "colab": {
          "base_uri": "https://localhost:8080/"
        },
        "id": "Yq-SHa9NynUU",
        "outputId": "2f337753-ff85-4358-9ec1-2e82eb2beacd"
      },
      "execution_count": null,
      "outputs": [
        {
          "output_type": "stream",
          "name": "stdout",
          "text": [
            "出力ファイル名を入力してください（例：merged_file）: 耳鼻科\n",
            "Successfully merged PDF files into 耳鼻科.pdf\n"
          ]
        }
      ]
    }
  ]
}